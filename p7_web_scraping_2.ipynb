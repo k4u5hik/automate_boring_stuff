{
 "cells": [
  {
   "cell_type": "code",
   "execution_count": 2,
   "metadata": {
    "collapsed": true
   },
   "outputs": [],
   "source": [
    "import pandas as pd\n",
    "# Data from https://www.football-data.co.uk/englandm.php"
   ]
  },
  {
   "cell_type": "markdown",
   "source": [
    "Reading a .csv from a URL with Pandas"
   ],
   "metadata": {
    "collapsed": false
   }
  },
  {
   "cell_type": "code",
   "execution_count": 3,
   "outputs": [
    {
     "data": {
      "text/plain": "   Div        Date   Time        HomeTeam       AwayTeam  FTHG  FTAG FTR  \\\n0   E0  05/08/2022  20:00  Crystal Palace        Arsenal     0     2   A   \n1   E0  06/08/2022  12:30          Fulham      Liverpool     2     2   D   \n2   E0  06/08/2022  15:00     Bournemouth    Aston Villa     2     0   H   \n3   E0  06/08/2022  15:00           Leeds         Wolves     2     1   H   \n4   E0  06/08/2022  15:00       Newcastle  Nott'm Forest     2     0   H   \n..  ..         ...    ...             ...            ...   ...   ...  ..   \n81  E0  08/10/2022  17:30        Brighton      Tottenham     0     1   A   \n82  E0  09/10/2022  14:00  Crystal Palace          Leeds     2     1   H   \n83  E0  09/10/2022  14:00        West Ham         Fulham     3     1   H   \n84  E0  09/10/2022  16:30         Arsenal      Liverpool     3     2   H   \n85  E0  09/10/2022  19:00         Everton     Man United     1     2   A   \n\n    HTHG  HTAG  ... AvgC<2.5  AHCh  B365CAHH  B365CAHA  PCAHH  PCAHA  MaxCAHH  \\\n0      0     1  ...     1.76  0.50      2.09      1.84   2.04   1.88     2.09   \n1      1     0  ...     2.73  1.75      1.90      2.03   1.91   2.02     2.01   \n2      1     0  ...     1.76  0.50      1.93      2.00   1.93   2.00     1.94   \n3      1     1  ...     1.87 -0.25      2.08      1.85   2.10   1.84     2.14   \n4      0     0  ...     1.89 -1.00      1.97      1.96   1.99   1.93     2.19   \n..   ...   ...  ...      ...   ...       ...       ...    ...    ...      ...   \n81     0     1  ...     1.84  0.00      1.82      2.08   1.84   2.10     1.87   \n82     1     1  ...     1.93 -0.50      2.07      1.83   2.09   1.85     2.13   \n83     1     1  ...     1.98 -1.00      2.07      1.83   2.09   1.83     2.20   \n84     2     1  ...     2.51  0.00      1.91      1.99   1.93   1.99     1.96   \n85     1     2  ...     2.02  0.50      1.80      2.00   1.85   2.09     1.89   \n\n    MaxCAHA  AvgCAHH  AvgCAHA  \n0      1.88     2.03     1.85  \n1      2.06     1.89     1.99  \n2      2.04     1.88     2.00  \n3      1.87     2.08     1.81  \n4      1.97     2.03     1.86  \n..      ...      ...      ...  \n81     2.13     1.83     2.05  \n82     1.87     2.07     1.82  \n83     1.86     2.11     1.78  \n84     2.03     1.89     1.98  \n85     2.11     1.82     2.06  \n\n[86 rows x 106 columns]",
      "text/html": "<div>\n<style scoped>\n    .dataframe tbody tr th:only-of-type {\n        vertical-align: middle;\n    }\n\n    .dataframe tbody tr th {\n        vertical-align: top;\n    }\n\n    .dataframe thead th {\n        text-align: right;\n    }\n</style>\n<table border=\"1\" class=\"dataframe\">\n  <thead>\n    <tr style=\"text-align: right;\">\n      <th></th>\n      <th>Div</th>\n      <th>Date</th>\n      <th>Time</th>\n      <th>HomeTeam</th>\n      <th>AwayTeam</th>\n      <th>FTHG</th>\n      <th>FTAG</th>\n      <th>FTR</th>\n      <th>HTHG</th>\n      <th>HTAG</th>\n      <th>...</th>\n      <th>AvgC&lt;2.5</th>\n      <th>AHCh</th>\n      <th>B365CAHH</th>\n      <th>B365CAHA</th>\n      <th>PCAHH</th>\n      <th>PCAHA</th>\n      <th>MaxCAHH</th>\n      <th>MaxCAHA</th>\n      <th>AvgCAHH</th>\n      <th>AvgCAHA</th>\n    </tr>\n  </thead>\n  <tbody>\n    <tr>\n      <th>0</th>\n      <td>E0</td>\n      <td>05/08/2022</td>\n      <td>20:00</td>\n      <td>Crystal Palace</td>\n      <td>Arsenal</td>\n      <td>0</td>\n      <td>2</td>\n      <td>A</td>\n      <td>0</td>\n      <td>1</td>\n      <td>...</td>\n      <td>1.76</td>\n      <td>0.50</td>\n      <td>2.09</td>\n      <td>1.84</td>\n      <td>2.04</td>\n      <td>1.88</td>\n      <td>2.09</td>\n      <td>1.88</td>\n      <td>2.03</td>\n      <td>1.85</td>\n    </tr>\n    <tr>\n      <th>1</th>\n      <td>E0</td>\n      <td>06/08/2022</td>\n      <td>12:30</td>\n      <td>Fulham</td>\n      <td>Liverpool</td>\n      <td>2</td>\n      <td>2</td>\n      <td>D</td>\n      <td>1</td>\n      <td>0</td>\n      <td>...</td>\n      <td>2.73</td>\n      <td>1.75</td>\n      <td>1.90</td>\n      <td>2.03</td>\n      <td>1.91</td>\n      <td>2.02</td>\n      <td>2.01</td>\n      <td>2.06</td>\n      <td>1.89</td>\n      <td>1.99</td>\n    </tr>\n    <tr>\n      <th>2</th>\n      <td>E0</td>\n      <td>06/08/2022</td>\n      <td>15:00</td>\n      <td>Bournemouth</td>\n      <td>Aston Villa</td>\n      <td>2</td>\n      <td>0</td>\n      <td>H</td>\n      <td>1</td>\n      <td>0</td>\n      <td>...</td>\n      <td>1.76</td>\n      <td>0.50</td>\n      <td>1.93</td>\n      <td>2.00</td>\n      <td>1.93</td>\n      <td>2.00</td>\n      <td>1.94</td>\n      <td>2.04</td>\n      <td>1.88</td>\n      <td>2.00</td>\n    </tr>\n    <tr>\n      <th>3</th>\n      <td>E0</td>\n      <td>06/08/2022</td>\n      <td>15:00</td>\n      <td>Leeds</td>\n      <td>Wolves</td>\n      <td>2</td>\n      <td>1</td>\n      <td>H</td>\n      <td>1</td>\n      <td>1</td>\n      <td>...</td>\n      <td>1.87</td>\n      <td>-0.25</td>\n      <td>2.08</td>\n      <td>1.85</td>\n      <td>2.10</td>\n      <td>1.84</td>\n      <td>2.14</td>\n      <td>1.87</td>\n      <td>2.08</td>\n      <td>1.81</td>\n    </tr>\n    <tr>\n      <th>4</th>\n      <td>E0</td>\n      <td>06/08/2022</td>\n      <td>15:00</td>\n      <td>Newcastle</td>\n      <td>Nott'm Forest</td>\n      <td>2</td>\n      <td>0</td>\n      <td>H</td>\n      <td>0</td>\n      <td>0</td>\n      <td>...</td>\n      <td>1.89</td>\n      <td>-1.00</td>\n      <td>1.97</td>\n      <td>1.96</td>\n      <td>1.99</td>\n      <td>1.93</td>\n      <td>2.19</td>\n      <td>1.97</td>\n      <td>2.03</td>\n      <td>1.86</td>\n    </tr>\n    <tr>\n      <th>...</th>\n      <td>...</td>\n      <td>...</td>\n      <td>...</td>\n      <td>...</td>\n      <td>...</td>\n      <td>...</td>\n      <td>...</td>\n      <td>...</td>\n      <td>...</td>\n      <td>...</td>\n      <td>...</td>\n      <td>...</td>\n      <td>...</td>\n      <td>...</td>\n      <td>...</td>\n      <td>...</td>\n      <td>...</td>\n      <td>...</td>\n      <td>...</td>\n      <td>...</td>\n      <td>...</td>\n    </tr>\n    <tr>\n      <th>81</th>\n      <td>E0</td>\n      <td>08/10/2022</td>\n      <td>17:30</td>\n      <td>Brighton</td>\n      <td>Tottenham</td>\n      <td>0</td>\n      <td>1</td>\n      <td>A</td>\n      <td>0</td>\n      <td>1</td>\n      <td>...</td>\n      <td>1.84</td>\n      <td>0.00</td>\n      <td>1.82</td>\n      <td>2.08</td>\n      <td>1.84</td>\n      <td>2.10</td>\n      <td>1.87</td>\n      <td>2.13</td>\n      <td>1.83</td>\n      <td>2.05</td>\n    </tr>\n    <tr>\n      <th>82</th>\n      <td>E0</td>\n      <td>09/10/2022</td>\n      <td>14:00</td>\n      <td>Crystal Palace</td>\n      <td>Leeds</td>\n      <td>2</td>\n      <td>1</td>\n      <td>H</td>\n      <td>1</td>\n      <td>1</td>\n      <td>...</td>\n      <td>1.93</td>\n      <td>-0.50</td>\n      <td>2.07</td>\n      <td>1.83</td>\n      <td>2.09</td>\n      <td>1.85</td>\n      <td>2.13</td>\n      <td>1.87</td>\n      <td>2.07</td>\n      <td>1.82</td>\n    </tr>\n    <tr>\n      <th>83</th>\n      <td>E0</td>\n      <td>09/10/2022</td>\n      <td>14:00</td>\n      <td>West Ham</td>\n      <td>Fulham</td>\n      <td>3</td>\n      <td>1</td>\n      <td>H</td>\n      <td>1</td>\n      <td>1</td>\n      <td>...</td>\n      <td>1.98</td>\n      <td>-1.00</td>\n      <td>2.07</td>\n      <td>1.83</td>\n      <td>2.09</td>\n      <td>1.83</td>\n      <td>2.20</td>\n      <td>1.86</td>\n      <td>2.11</td>\n      <td>1.78</td>\n    </tr>\n    <tr>\n      <th>84</th>\n      <td>E0</td>\n      <td>09/10/2022</td>\n      <td>16:30</td>\n      <td>Arsenal</td>\n      <td>Liverpool</td>\n      <td>3</td>\n      <td>2</td>\n      <td>H</td>\n      <td>2</td>\n      <td>1</td>\n      <td>...</td>\n      <td>2.51</td>\n      <td>0.00</td>\n      <td>1.91</td>\n      <td>1.99</td>\n      <td>1.93</td>\n      <td>1.99</td>\n      <td>1.96</td>\n      <td>2.03</td>\n      <td>1.89</td>\n      <td>1.98</td>\n    </tr>\n    <tr>\n      <th>85</th>\n      <td>E0</td>\n      <td>09/10/2022</td>\n      <td>19:00</td>\n      <td>Everton</td>\n      <td>Man United</td>\n      <td>1</td>\n      <td>2</td>\n      <td>A</td>\n      <td>1</td>\n      <td>2</td>\n      <td>...</td>\n      <td>2.02</td>\n      <td>0.50</td>\n      <td>1.80</td>\n      <td>2.00</td>\n      <td>1.85</td>\n      <td>2.09</td>\n      <td>1.89</td>\n      <td>2.11</td>\n      <td>1.82</td>\n      <td>2.06</td>\n    </tr>\n  </tbody>\n</table>\n<p>86 rows × 106 columns</p>\n</div>"
     },
     "execution_count": 3,
     "metadata": {},
     "output_type": "execute_result"
    }
   ],
   "source": [
    "# reading one csv file from the website\n",
    "df_pre21 = pd.read_csv('https://www.football-data.co.uk/mmz4281/2223/E0.csv')\n",
    "#showing data\n",
    "df_pre21"
   ],
   "metadata": {
    "collapsed": false
   }
  },
  {
   "cell_type": "code",
   "execution_count": 5,
   "outputs": [],
   "source": [
    "df_pre21.rename(columns={'FTHG' : 'home_goals',\n",
    "                         'FTAG' : 'away_goals'}, inplace=True)"
   ],
   "metadata": {
    "collapsed": false
   }
  },
  {
   "cell_type": "code",
   "execution_count": 6,
   "outputs": [
    {
     "data": {
      "text/plain": "   Div        Date   Time        HomeTeam       AwayTeam  home_goals  \\\n0   E0  05/08/2022  20:00  Crystal Palace        Arsenal           0   \n1   E0  06/08/2022  12:30          Fulham      Liverpool           2   \n2   E0  06/08/2022  15:00     Bournemouth    Aston Villa           2   \n3   E0  06/08/2022  15:00           Leeds         Wolves           2   \n4   E0  06/08/2022  15:00       Newcastle  Nott'm Forest           2   \n..  ..         ...    ...             ...            ...         ...   \n81  E0  08/10/2022  17:30        Brighton      Tottenham           0   \n82  E0  09/10/2022  14:00  Crystal Palace          Leeds           2   \n83  E0  09/10/2022  14:00        West Ham         Fulham           3   \n84  E0  09/10/2022  16:30         Arsenal      Liverpool           3   \n85  E0  09/10/2022  19:00         Everton     Man United           1   \n\n    away_goals FTR  HTHG  HTAG  ... AvgC<2.5  AHCh  B365CAHH  B365CAHA  PCAHH  \\\n0            2   A     0     1  ...     1.76  0.50      2.09      1.84   2.04   \n1            2   D     1     0  ...     2.73  1.75      1.90      2.03   1.91   \n2            0   H     1     0  ...     1.76  0.50      1.93      2.00   1.93   \n3            1   H     1     1  ...     1.87 -0.25      2.08      1.85   2.10   \n4            0   H     0     0  ...     1.89 -1.00      1.97      1.96   1.99   \n..         ...  ..   ...   ...  ...      ...   ...       ...       ...    ...   \n81           1   A     0     1  ...     1.84  0.00      1.82      2.08   1.84   \n82           1   H     1     1  ...     1.93 -0.50      2.07      1.83   2.09   \n83           1   H     1     1  ...     1.98 -1.00      2.07      1.83   2.09   \n84           2   H     2     1  ...     2.51  0.00      1.91      1.99   1.93   \n85           2   A     1     2  ...     2.02  0.50      1.80      2.00   1.85   \n\n    PCAHA  MaxCAHH  MaxCAHA  AvgCAHH  AvgCAHA  \n0    1.88     2.09     1.88     2.03     1.85  \n1    2.02     2.01     2.06     1.89     1.99  \n2    2.00     1.94     2.04     1.88     2.00  \n3    1.84     2.14     1.87     2.08     1.81  \n4    1.93     2.19     1.97     2.03     1.86  \n..    ...      ...      ...      ...      ...  \n81   2.10     1.87     2.13     1.83     2.05  \n82   1.85     2.13     1.87     2.07     1.82  \n83   1.83     2.20     1.86     2.11     1.78  \n84   1.99     1.96     2.03     1.89     1.98  \n85   2.09     1.89     2.11     1.82     2.06  \n\n[86 rows x 106 columns]",
      "text/html": "<div>\n<style scoped>\n    .dataframe tbody tr th:only-of-type {\n        vertical-align: middle;\n    }\n\n    .dataframe tbody tr th {\n        vertical-align: top;\n    }\n\n    .dataframe thead th {\n        text-align: right;\n    }\n</style>\n<table border=\"1\" class=\"dataframe\">\n  <thead>\n    <tr style=\"text-align: right;\">\n      <th></th>\n      <th>Div</th>\n      <th>Date</th>\n      <th>Time</th>\n      <th>HomeTeam</th>\n      <th>AwayTeam</th>\n      <th>home_goals</th>\n      <th>away_goals</th>\n      <th>FTR</th>\n      <th>HTHG</th>\n      <th>HTAG</th>\n      <th>...</th>\n      <th>AvgC&lt;2.5</th>\n      <th>AHCh</th>\n      <th>B365CAHH</th>\n      <th>B365CAHA</th>\n      <th>PCAHH</th>\n      <th>PCAHA</th>\n      <th>MaxCAHH</th>\n      <th>MaxCAHA</th>\n      <th>AvgCAHH</th>\n      <th>AvgCAHA</th>\n    </tr>\n  </thead>\n  <tbody>\n    <tr>\n      <th>0</th>\n      <td>E0</td>\n      <td>05/08/2022</td>\n      <td>20:00</td>\n      <td>Crystal Palace</td>\n      <td>Arsenal</td>\n      <td>0</td>\n      <td>2</td>\n      <td>A</td>\n      <td>0</td>\n      <td>1</td>\n      <td>...</td>\n      <td>1.76</td>\n      <td>0.50</td>\n      <td>2.09</td>\n      <td>1.84</td>\n      <td>2.04</td>\n      <td>1.88</td>\n      <td>2.09</td>\n      <td>1.88</td>\n      <td>2.03</td>\n      <td>1.85</td>\n    </tr>\n    <tr>\n      <th>1</th>\n      <td>E0</td>\n      <td>06/08/2022</td>\n      <td>12:30</td>\n      <td>Fulham</td>\n      <td>Liverpool</td>\n      <td>2</td>\n      <td>2</td>\n      <td>D</td>\n      <td>1</td>\n      <td>0</td>\n      <td>...</td>\n      <td>2.73</td>\n      <td>1.75</td>\n      <td>1.90</td>\n      <td>2.03</td>\n      <td>1.91</td>\n      <td>2.02</td>\n      <td>2.01</td>\n      <td>2.06</td>\n      <td>1.89</td>\n      <td>1.99</td>\n    </tr>\n    <tr>\n      <th>2</th>\n      <td>E0</td>\n      <td>06/08/2022</td>\n      <td>15:00</td>\n      <td>Bournemouth</td>\n      <td>Aston Villa</td>\n      <td>2</td>\n      <td>0</td>\n      <td>H</td>\n      <td>1</td>\n      <td>0</td>\n      <td>...</td>\n      <td>1.76</td>\n      <td>0.50</td>\n      <td>1.93</td>\n      <td>2.00</td>\n      <td>1.93</td>\n      <td>2.00</td>\n      <td>1.94</td>\n      <td>2.04</td>\n      <td>1.88</td>\n      <td>2.00</td>\n    </tr>\n    <tr>\n      <th>3</th>\n      <td>E0</td>\n      <td>06/08/2022</td>\n      <td>15:00</td>\n      <td>Leeds</td>\n      <td>Wolves</td>\n      <td>2</td>\n      <td>1</td>\n      <td>H</td>\n      <td>1</td>\n      <td>1</td>\n      <td>...</td>\n      <td>1.87</td>\n      <td>-0.25</td>\n      <td>2.08</td>\n      <td>1.85</td>\n      <td>2.10</td>\n      <td>1.84</td>\n      <td>2.14</td>\n      <td>1.87</td>\n      <td>2.08</td>\n      <td>1.81</td>\n    </tr>\n    <tr>\n      <th>4</th>\n      <td>E0</td>\n      <td>06/08/2022</td>\n      <td>15:00</td>\n      <td>Newcastle</td>\n      <td>Nott'm Forest</td>\n      <td>2</td>\n      <td>0</td>\n      <td>H</td>\n      <td>0</td>\n      <td>0</td>\n      <td>...</td>\n      <td>1.89</td>\n      <td>-1.00</td>\n      <td>1.97</td>\n      <td>1.96</td>\n      <td>1.99</td>\n      <td>1.93</td>\n      <td>2.19</td>\n      <td>1.97</td>\n      <td>2.03</td>\n      <td>1.86</td>\n    </tr>\n    <tr>\n      <th>...</th>\n      <td>...</td>\n      <td>...</td>\n      <td>...</td>\n      <td>...</td>\n      <td>...</td>\n      <td>...</td>\n      <td>...</td>\n      <td>...</td>\n      <td>...</td>\n      <td>...</td>\n      <td>...</td>\n      <td>...</td>\n      <td>...</td>\n      <td>...</td>\n      <td>...</td>\n      <td>...</td>\n      <td>...</td>\n      <td>...</td>\n      <td>...</td>\n      <td>...</td>\n      <td>...</td>\n    </tr>\n    <tr>\n      <th>81</th>\n      <td>E0</td>\n      <td>08/10/2022</td>\n      <td>17:30</td>\n      <td>Brighton</td>\n      <td>Tottenham</td>\n      <td>0</td>\n      <td>1</td>\n      <td>A</td>\n      <td>0</td>\n      <td>1</td>\n      <td>...</td>\n      <td>1.84</td>\n      <td>0.00</td>\n      <td>1.82</td>\n      <td>2.08</td>\n      <td>1.84</td>\n      <td>2.10</td>\n      <td>1.87</td>\n      <td>2.13</td>\n      <td>1.83</td>\n      <td>2.05</td>\n    </tr>\n    <tr>\n      <th>82</th>\n      <td>E0</td>\n      <td>09/10/2022</td>\n      <td>14:00</td>\n      <td>Crystal Palace</td>\n      <td>Leeds</td>\n      <td>2</td>\n      <td>1</td>\n      <td>H</td>\n      <td>1</td>\n      <td>1</td>\n      <td>...</td>\n      <td>1.93</td>\n      <td>-0.50</td>\n      <td>2.07</td>\n      <td>1.83</td>\n      <td>2.09</td>\n      <td>1.85</td>\n      <td>2.13</td>\n      <td>1.87</td>\n      <td>2.07</td>\n      <td>1.82</td>\n    </tr>\n    <tr>\n      <th>83</th>\n      <td>E0</td>\n      <td>09/10/2022</td>\n      <td>14:00</td>\n      <td>West Ham</td>\n      <td>Fulham</td>\n      <td>3</td>\n      <td>1</td>\n      <td>H</td>\n      <td>1</td>\n      <td>1</td>\n      <td>...</td>\n      <td>1.98</td>\n      <td>-1.00</td>\n      <td>2.07</td>\n      <td>1.83</td>\n      <td>2.09</td>\n      <td>1.83</td>\n      <td>2.20</td>\n      <td>1.86</td>\n      <td>2.11</td>\n      <td>1.78</td>\n    </tr>\n    <tr>\n      <th>84</th>\n      <td>E0</td>\n      <td>09/10/2022</td>\n      <td>16:30</td>\n      <td>Arsenal</td>\n      <td>Liverpool</td>\n      <td>3</td>\n      <td>2</td>\n      <td>H</td>\n      <td>2</td>\n      <td>1</td>\n      <td>...</td>\n      <td>2.51</td>\n      <td>0.00</td>\n      <td>1.91</td>\n      <td>1.99</td>\n      <td>1.93</td>\n      <td>1.99</td>\n      <td>1.96</td>\n      <td>2.03</td>\n      <td>1.89</td>\n      <td>1.98</td>\n    </tr>\n    <tr>\n      <th>85</th>\n      <td>E0</td>\n      <td>09/10/2022</td>\n      <td>19:00</td>\n      <td>Everton</td>\n      <td>Man United</td>\n      <td>1</td>\n      <td>2</td>\n      <td>A</td>\n      <td>1</td>\n      <td>2</td>\n      <td>...</td>\n      <td>2.02</td>\n      <td>0.50</td>\n      <td>1.80</td>\n      <td>2.00</td>\n      <td>1.85</td>\n      <td>2.09</td>\n      <td>1.89</td>\n      <td>2.11</td>\n      <td>1.82</td>\n      <td>2.06</td>\n    </tr>\n  </tbody>\n</table>\n<p>86 rows × 106 columns</p>\n</div>"
     },
     "execution_count": 6,
     "metadata": {},
     "output_type": "execute_result"
    }
   ],
   "source": [
    "df_pre21\n"
   ],
   "metadata": {
    "collapsed": false
   }
  }
 ],
 "metadata": {
  "kernelspec": {
   "display_name": "Python 3",
   "language": "python",
   "name": "python3"
  },
  "language_info": {
   "codemirror_mode": {
    "name": "ipython",
    "version": 2
   },
   "file_extension": ".py",
   "mimetype": "text/x-python",
   "name": "python",
   "nbconvert_exporter": "python",
   "pygments_lexer": "ipython2",
   "version": "2.7.6"
  }
 },
 "nbformat": 4,
 "nbformat_minor": 0
}
