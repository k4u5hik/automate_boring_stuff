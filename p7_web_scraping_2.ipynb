{
 "cells": [
  {
   "cell_type": "code",
   "execution_count": 2,
   "metadata": {
    "collapsed": true
   },
   "outputs": [],
   "source": [
    "import pandas as pd\n",
    "# Data from https://www.football-data.co.uk/englandm.php"
   ]
  },
  {
   "cell_type": "code",
   "execution_count": 3,
   "outputs": [
    {
     "data": {
      "text/plain": "   Div        Date   Time        HomeTeam       AwayTeam  FTHG  FTAG FTR  \\\n0   E0  05/08/2022  20:00  Crystal Palace        Arsenal     0     2   A   \n1   E0  06/08/2022  12:30          Fulham      Liverpool     2     2   D   \n2   E0  06/08/2022  15:00     Bournemouth    Aston Villa     2     0   H   \n3   E0  06/08/2022  15:00           Leeds         Wolves     2     1   H   \n4   E0  06/08/2022  15:00       Newcastle  Nott'm Forest     2     0   H   \n..  ..         ...    ...             ...            ...   ...   ...  ..   \n72  E0  01/10/2022  15:00     Southampton        Everton     1     2   A   \n73  E0  01/10/2022  17:30        West Ham         Wolves     2     0   H   \n74  E0  02/10/2022  14:00        Man City     Man United     6     3   H   \n75  E0  02/10/2022  16:30           Leeds    Aston Villa     0     0   D   \n76  E0  03/10/2022  20:00       Leicester  Nott'm Forest     4     0   H   \n\n    HTHG  HTAG  ... AvgC<2.5  AHCh  B365CAHH  B365CAHA  PCAHH  PCAHA  MaxCAHH  \\\n0      0     1  ...     1.76  0.50      2.09      1.84   2.04   1.88     2.09   \n1      1     0  ...     2.73  1.75      1.90      2.03   1.91   2.02     2.01   \n2      1     0  ...     1.76  0.50      1.93      2.00   1.93   2.00     1.94   \n3      1     1  ...     1.87 -0.25      2.08      1.85   2.10   1.84     2.14   \n4      0     0  ...     1.89 -1.00      1.97      1.96   1.99   1.93     2.19   \n..   ...   ...  ...      ...   ...       ...       ...    ...    ...      ...   \n72     0     0  ...     1.74 -0.25      2.03      1.87   2.04   1.88     2.07   \n73     1     0  ...     1.69 -0.50      2.07      1.83   2.07   1.86     2.09   \n74     4     0  ...     2.74 -1.25      1.86      2.04   1.91   2.05     1.95   \n75     0     0  ...     1.96 -0.25      2.08      1.82   2.11   1.83     2.14   \n76     3     0  ...     2.18 -0.75      1.93      1.97   1.93   2.00     1.94   \n\n    MaxCAHA  AvgCAHH  AvgCAHA  \n0      1.88     2.03     1.85  \n1      2.06     1.89     1.99  \n2      2.04     1.88     2.00  \n3      1.87     2.08     1.81  \n4      1.97     2.03     1.86  \n..      ...      ...      ...  \n72     1.93     1.99     1.88  \n73     1.89     2.04     1.84  \n74     2.05     1.89     1.98  \n75     1.87     2.06     1.82  \n76     2.00     1.90     1.97  \n\n[77 rows x 106 columns]",
      "text/html": "<div>\n<style scoped>\n    .dataframe tbody tr th:only-of-type {\n        vertical-align: middle;\n    }\n\n    .dataframe tbody tr th {\n        vertical-align: top;\n    }\n\n    .dataframe thead th {\n        text-align: right;\n    }\n</style>\n<table border=\"1\" class=\"dataframe\">\n  <thead>\n    <tr style=\"text-align: right;\">\n      <th></th>\n      <th>Div</th>\n      <th>Date</th>\n      <th>Time</th>\n      <th>HomeTeam</th>\n      <th>AwayTeam</th>\n      <th>FTHG</th>\n      <th>FTAG</th>\n      <th>FTR</th>\n      <th>HTHG</th>\n      <th>HTAG</th>\n      <th>...</th>\n      <th>AvgC&lt;2.5</th>\n      <th>AHCh</th>\n      <th>B365CAHH</th>\n      <th>B365CAHA</th>\n      <th>PCAHH</th>\n      <th>PCAHA</th>\n      <th>MaxCAHH</th>\n      <th>MaxCAHA</th>\n      <th>AvgCAHH</th>\n      <th>AvgCAHA</th>\n    </tr>\n  </thead>\n  <tbody>\n    <tr>\n      <th>0</th>\n      <td>E0</td>\n      <td>05/08/2022</td>\n      <td>20:00</td>\n      <td>Crystal Palace</td>\n      <td>Arsenal</td>\n      <td>0</td>\n      <td>2</td>\n      <td>A</td>\n      <td>0</td>\n      <td>1</td>\n      <td>...</td>\n      <td>1.76</td>\n      <td>0.50</td>\n      <td>2.09</td>\n      <td>1.84</td>\n      <td>2.04</td>\n      <td>1.88</td>\n      <td>2.09</td>\n      <td>1.88</td>\n      <td>2.03</td>\n      <td>1.85</td>\n    </tr>\n    <tr>\n      <th>1</th>\n      <td>E0</td>\n      <td>06/08/2022</td>\n      <td>12:30</td>\n      <td>Fulham</td>\n      <td>Liverpool</td>\n      <td>2</td>\n      <td>2</td>\n      <td>D</td>\n      <td>1</td>\n      <td>0</td>\n      <td>...</td>\n      <td>2.73</td>\n      <td>1.75</td>\n      <td>1.90</td>\n      <td>2.03</td>\n      <td>1.91</td>\n      <td>2.02</td>\n      <td>2.01</td>\n      <td>2.06</td>\n      <td>1.89</td>\n      <td>1.99</td>\n    </tr>\n    <tr>\n      <th>2</th>\n      <td>E0</td>\n      <td>06/08/2022</td>\n      <td>15:00</td>\n      <td>Bournemouth</td>\n      <td>Aston Villa</td>\n      <td>2</td>\n      <td>0</td>\n      <td>H</td>\n      <td>1</td>\n      <td>0</td>\n      <td>...</td>\n      <td>1.76</td>\n      <td>0.50</td>\n      <td>1.93</td>\n      <td>2.00</td>\n      <td>1.93</td>\n      <td>2.00</td>\n      <td>1.94</td>\n      <td>2.04</td>\n      <td>1.88</td>\n      <td>2.00</td>\n    </tr>\n    <tr>\n      <th>3</th>\n      <td>E0</td>\n      <td>06/08/2022</td>\n      <td>15:00</td>\n      <td>Leeds</td>\n      <td>Wolves</td>\n      <td>2</td>\n      <td>1</td>\n      <td>H</td>\n      <td>1</td>\n      <td>1</td>\n      <td>...</td>\n      <td>1.87</td>\n      <td>-0.25</td>\n      <td>2.08</td>\n      <td>1.85</td>\n      <td>2.10</td>\n      <td>1.84</td>\n      <td>2.14</td>\n      <td>1.87</td>\n      <td>2.08</td>\n      <td>1.81</td>\n    </tr>\n    <tr>\n      <th>4</th>\n      <td>E0</td>\n      <td>06/08/2022</td>\n      <td>15:00</td>\n      <td>Newcastle</td>\n      <td>Nott'm Forest</td>\n      <td>2</td>\n      <td>0</td>\n      <td>H</td>\n      <td>0</td>\n      <td>0</td>\n      <td>...</td>\n      <td>1.89</td>\n      <td>-1.00</td>\n      <td>1.97</td>\n      <td>1.96</td>\n      <td>1.99</td>\n      <td>1.93</td>\n      <td>2.19</td>\n      <td>1.97</td>\n      <td>2.03</td>\n      <td>1.86</td>\n    </tr>\n    <tr>\n      <th>...</th>\n      <td>...</td>\n      <td>...</td>\n      <td>...</td>\n      <td>...</td>\n      <td>...</td>\n      <td>...</td>\n      <td>...</td>\n      <td>...</td>\n      <td>...</td>\n      <td>...</td>\n      <td>...</td>\n      <td>...</td>\n      <td>...</td>\n      <td>...</td>\n      <td>...</td>\n      <td>...</td>\n      <td>...</td>\n      <td>...</td>\n      <td>...</td>\n      <td>...</td>\n      <td>...</td>\n    </tr>\n    <tr>\n      <th>72</th>\n      <td>E0</td>\n      <td>01/10/2022</td>\n      <td>15:00</td>\n      <td>Southampton</td>\n      <td>Everton</td>\n      <td>1</td>\n      <td>2</td>\n      <td>A</td>\n      <td>0</td>\n      <td>0</td>\n      <td>...</td>\n      <td>1.74</td>\n      <td>-0.25</td>\n      <td>2.03</td>\n      <td>1.87</td>\n      <td>2.04</td>\n      <td>1.88</td>\n      <td>2.07</td>\n      <td>1.93</td>\n      <td>1.99</td>\n      <td>1.88</td>\n    </tr>\n    <tr>\n      <th>73</th>\n      <td>E0</td>\n      <td>01/10/2022</td>\n      <td>17:30</td>\n      <td>West Ham</td>\n      <td>Wolves</td>\n      <td>2</td>\n      <td>0</td>\n      <td>H</td>\n      <td>1</td>\n      <td>0</td>\n      <td>...</td>\n      <td>1.69</td>\n      <td>-0.50</td>\n      <td>2.07</td>\n      <td>1.83</td>\n      <td>2.07</td>\n      <td>1.86</td>\n      <td>2.09</td>\n      <td>1.89</td>\n      <td>2.04</td>\n      <td>1.84</td>\n    </tr>\n    <tr>\n      <th>74</th>\n      <td>E0</td>\n      <td>02/10/2022</td>\n      <td>14:00</td>\n      <td>Man City</td>\n      <td>Man United</td>\n      <td>6</td>\n      <td>3</td>\n      <td>H</td>\n      <td>4</td>\n      <td>0</td>\n      <td>...</td>\n      <td>2.74</td>\n      <td>-1.25</td>\n      <td>1.86</td>\n      <td>2.04</td>\n      <td>1.91</td>\n      <td>2.05</td>\n      <td>1.95</td>\n      <td>2.05</td>\n      <td>1.89</td>\n      <td>1.98</td>\n    </tr>\n    <tr>\n      <th>75</th>\n      <td>E0</td>\n      <td>02/10/2022</td>\n      <td>16:30</td>\n      <td>Leeds</td>\n      <td>Aston Villa</td>\n      <td>0</td>\n      <td>0</td>\n      <td>D</td>\n      <td>0</td>\n      <td>0</td>\n      <td>...</td>\n      <td>1.96</td>\n      <td>-0.25</td>\n      <td>2.08</td>\n      <td>1.82</td>\n      <td>2.11</td>\n      <td>1.83</td>\n      <td>2.14</td>\n      <td>1.87</td>\n      <td>2.06</td>\n      <td>1.82</td>\n    </tr>\n    <tr>\n      <th>76</th>\n      <td>E0</td>\n      <td>03/10/2022</td>\n      <td>20:00</td>\n      <td>Leicester</td>\n      <td>Nott'm Forest</td>\n      <td>4</td>\n      <td>0</td>\n      <td>H</td>\n      <td>3</td>\n      <td>0</td>\n      <td>...</td>\n      <td>2.18</td>\n      <td>-0.75</td>\n      <td>1.93</td>\n      <td>1.97</td>\n      <td>1.93</td>\n      <td>2.00</td>\n      <td>1.94</td>\n      <td>2.00</td>\n      <td>1.90</td>\n      <td>1.97</td>\n    </tr>\n  </tbody>\n</table>\n<p>77 rows × 106 columns</p>\n</div>"
     },
     "execution_count": 3,
     "metadata": {},
     "output_type": "execute_result"
    }
   ],
   "source": [
    "# reading 1 csv file from the website\n",
    "pd.read_csv('https://www.football-data.co.uk/mmz4281/2223/E0.csv')\n"
   ],
   "metadata": {
    "collapsed": false
   }
  }
 ],
 "metadata": {
  "kernelspec": {
   "display_name": "Python 3",
   "language": "python",
   "name": "python3"
  },
  "language_info": {
   "codemirror_mode": {
    "name": "ipython",
    "version": 2
   },
   "file_extension": ".py",
   "mimetype": "text/x-python",
   "name": "python",
   "nbconvert_exporter": "python",
   "pygments_lexer": "ipython2",
   "version": "2.7.6"
  }
 },
 "nbformat": 4,
 "nbformat_minor": 0
}
